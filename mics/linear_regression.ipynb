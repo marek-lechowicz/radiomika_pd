{
 "cells": [
  {
   "cell_type": "code",
   "execution_count": 352,
   "metadata": {},
   "outputs": [],
   "source": [
    "import pandas as pd\n",
    "import numpy as np\n",
    "import matplotlib.pyplot as plt\n",
    "\n",
    "from sklearn.model_selection import train_test_split\n",
    "\n",
    "random_state = 44"
   ]
  },
  {
   "cell_type": "code",
   "execution_count": 353,
   "metadata": {},
   "outputs": [],
   "source": [
    "df = pd.read_csv(\"features.csv\", index_col=0)\n",
    "df.dropna(inplace=True)\n",
    "X = df.drop(columns=['malign', 'patient_name'])\n",
    "y = df['malign']"
   ]
  },
  {
   "cell_type": "code",
   "execution_count": 354,
   "metadata": {},
   "outputs": [],
   "source": [
    "from sklearn.preprocessing import MinMaxScaler\n",
    "scaler = MinMaxScaler()\n",
    "scaler.fit(X)\n",
    "X = scaler.transform(X)"
   ]
  },
  {
   "cell_type": "code",
   "execution_count": 355,
   "metadata": {},
   "outputs": [
    {
     "data": {
      "text/plain": [
       "PCA(random_state=44)"
      ]
     },
     "execution_count": 355,
     "metadata": {},
     "output_type": "execute_result"
    }
   ],
   "source": [
    "from sklearn.decomposition import PCA\n",
    "\n",
    "pca = PCA(random_state=random_state, n_components=None)\n",
    "pca.fit(X)"
   ]
  },
  {
   "cell_type": "code",
   "execution_count": 356,
   "metadata": {},
   "outputs": [
    {
     "name": "stdout",
     "output_type": "stream",
     "text": [
      "608\n"
     ]
    },
    {
     "data": {
      "text/html": [
       "<div>\n",
       "<style scoped>\n",
       "    .dataframe tbody tr th:only-of-type {\n",
       "        vertical-align: middle;\n",
       "    }\n",
       "\n",
       "    .dataframe tbody tr th {\n",
       "        vertical-align: top;\n",
       "    }\n",
       "\n",
       "    .dataframe thead th {\n",
       "        text-align: right;\n",
       "    }\n",
       "</style>\n",
       "<table border=\"1\" class=\"dataframe\">\n",
       "  <thead>\n",
       "    <tr style=\"text-align: right;\">\n",
       "      <th></th>\n",
       "      <th>Variance explained</th>\n",
       "    </tr>\n",
       "  </thead>\n",
       "  <tbody>\n",
       "    <tr>\n",
       "      <th>0</th>\n",
       "      <td>0.327187</td>\n",
       "    </tr>\n",
       "    <tr>\n",
       "      <th>1</th>\n",
       "      <td>0.514864</td>\n",
       "    </tr>\n",
       "    <tr>\n",
       "      <th>2</th>\n",
       "      <td>0.631644</td>\n",
       "    </tr>\n",
       "    <tr>\n",
       "      <th>3</th>\n",
       "      <td>0.680214</td>\n",
       "    </tr>\n",
       "    <tr>\n",
       "      <th>4</th>\n",
       "      <td>0.717651</td>\n",
       "    </tr>\n",
       "    <tr>\n",
       "      <th>...</th>\n",
       "      <td>...</td>\n",
       "    </tr>\n",
       "    <tr>\n",
       "      <th>603</th>\n",
       "      <td>1.000000</td>\n",
       "    </tr>\n",
       "    <tr>\n",
       "      <th>604</th>\n",
       "      <td>1.000000</td>\n",
       "    </tr>\n",
       "    <tr>\n",
       "      <th>605</th>\n",
       "      <td>1.000000</td>\n",
       "    </tr>\n",
       "    <tr>\n",
       "      <th>606</th>\n",
       "      <td>1.000000</td>\n",
       "    </tr>\n",
       "    <tr>\n",
       "      <th>607</th>\n",
       "      <td>1.000000</td>\n",
       "    </tr>\n",
       "  </tbody>\n",
       "</table>\n",
       "<p>608 rows × 1 columns</p>\n",
       "</div>"
      ],
      "text/plain": [
       "     Variance explained\n",
       "0              0.327187\n",
       "1              0.514864\n",
       "2              0.631644\n",
       "3              0.680214\n",
       "4              0.717651\n",
       "..                  ...\n",
       "603            1.000000\n",
       "604            1.000000\n",
       "605            1.000000\n",
       "606            1.000000\n",
       "607            1.000000\n",
       "\n",
       "[608 rows x 1 columns]"
      ]
     },
     "execution_count": 356,
     "metadata": {},
     "output_type": "execute_result"
    }
   ],
   "source": [
    "results = {'Variance explained': []}\n",
    "for i in range(1, 800):\n",
    "    cumsum = np.sum(pca.explained_variance_ratio_[:i])\n",
    "    results['Variance explained'].append(np.sum(pca.explained_variance_ratio_[:i]))\n",
    "    if cumsum == 1:\n",
    "        break\n",
    "\n",
    "results_df = pd.DataFrame(results)\n",
    "print(len(results['Variance explained']))\n",
    "results_df.head(800)"
   ]
  },
  {
   "cell_type": "code",
   "execution_count": 357,
   "metadata": {},
   "outputs": [],
   "source": [
    "pca = PCA(random_state=random_state, n_components=len(results['Variance explained']))\n",
    "pca.fit(X)\n",
    "X_PCA = pca.transform(X)\n",
    "X = X_PCA"
   ]
  },
  {
   "cell_type": "code",
   "execution_count": 358,
   "metadata": {},
   "outputs": [],
   "source": [
    "X_train, X_test, y_train, y_test = train_test_split(X, y, test_size=0.2, random_state=random_state)\n",
    "X_val, X_test, y_val, y_test = train_test_split(X_test, y_test, test_size=0.5, random_state=random_state)"
   ]
  },
  {
   "cell_type": "code",
   "execution_count": 359,
   "metadata": {},
   "outputs": [
    {
     "data": {
      "text/plain": [
       "LogisticRegression(max_iter=10000, random_state=44, solver='liblinear',\n",
       "                   tol=1e-10)"
      ]
     },
     "execution_count": 359,
     "metadata": {},
     "output_type": "execute_result"
    }
   ],
   "source": [
    "from sklearn.linear_model import LogisticRegression\n",
    "\n",
    "clf = LogisticRegression(random_state=random_state, max_iter=10**4, solver='liblinear', tol=1e-10)\n",
    "\n",
    "clfs = [clf]\n",
    "clfs_names = [\"LogisticRegression\"]\n",
    "\n",
    "for clf in clfs:\n",
    "    clf = clf.fit(X_train, y_train)"
   ]
  },
  {
   "cell_type": "code",
   "execution_count": 360,
   "metadata": {},
   "outputs": [
    {
     "name": "stdout",
     "output_type": "stream",
     "text": [
      "Performance on TRAINING set\n"
     ]
    },
    {
     "data": {
      "text/html": [
       "<div>\n",
       "<style scoped>\n",
       "    .dataframe tbody tr th:only-of-type {\n",
       "        vertical-align: middle;\n",
       "    }\n",
       "\n",
       "    .dataframe tbody tr th {\n",
       "        vertical-align: top;\n",
       "    }\n",
       "\n",
       "    .dataframe thead th {\n",
       "        text-align: right;\n",
       "    }\n",
       "</style>\n",
       "<table border=\"1\" class=\"dataframe\">\n",
       "  <thead>\n",
       "    <tr style=\"text-align: right;\">\n",
       "      <th></th>\n",
       "      <th>Name</th>\n",
       "      <th>Accuracy</th>\n",
       "      <th>F1 score</th>\n",
       "      <th>Precision</th>\n",
       "      <th>Recall</th>\n",
       "    </tr>\n",
       "  </thead>\n",
       "  <tbody>\n",
       "    <tr>\n",
       "      <th>0</th>\n",
       "      <td>LogisticRegression</td>\n",
       "      <td>0.840445</td>\n",
       "      <td>0.65873</td>\n",
       "      <td>0.821782</td>\n",
       "      <td>0.549669</td>\n",
       "    </tr>\n",
       "  </tbody>\n",
       "</table>\n",
       "</div>"
      ],
      "text/plain": [
       "                 Name  Accuracy  F1 score  Precision    Recall\n",
       "0  LogisticRegression  0.840445   0.65873   0.821782  0.549669"
      ]
     },
     "execution_count": 360,
     "metadata": {},
     "output_type": "execute_result"
    }
   ],
   "source": [
    "from sklearn.metrics import accuracy_score, f1_score, precision_score, recall_score, confusion_matrix, ConfusionMatrixDisplay\n",
    "y_pred = clf.predict(X_train)\n",
    "\n",
    "results = {'Name': [], 'Accuracy': [], 'F1 score': [], 'Precision': [], 'Recall': []}\n",
    "ys_pred = {}\n",
    "\n",
    "for clf, name in zip(clfs, clfs_names):\n",
    "    y_pred = clf.predict(X_train)\n",
    "    ys_pred[name] = y_pred\n",
    "    results['Name'].append(name)\n",
    "    results['Accuracy'].append(accuracy_score(y_train, y_pred))\n",
    "    results['F1 score'].append(f1_score(y_train, y_pred))\n",
    "    results['Precision'].append(precision_score(y_train, y_pred))\n",
    "    results['Recall'].append(recall_score(y_train, y_pred))\n",
    "\n",
    "results_df = pd.DataFrame(results)\n",
    "print(\"Performance on TRAINING set\")\n",
    "results_df.head(len(clfs_names))"
   ]
  },
  {
   "cell_type": "code",
   "execution_count": 361,
   "metadata": {},
   "outputs": [
    {
     "name": "stdout",
     "output_type": "stream",
     "text": [
      "Performance on VALIDATION set\n"
     ]
    },
    {
     "data": {
      "text/html": [
       "<div>\n",
       "<style scoped>\n",
       "    .dataframe tbody tr th:only-of-type {\n",
       "        vertical-align: middle;\n",
       "    }\n",
       "\n",
       "    .dataframe tbody tr th {\n",
       "        vertical-align: top;\n",
       "    }\n",
       "\n",
       "    .dataframe thead th {\n",
       "        text-align: right;\n",
       "    }\n",
       "</style>\n",
       "<table border=\"1\" class=\"dataframe\">\n",
       "  <thead>\n",
       "    <tr style=\"text-align: right;\">\n",
       "      <th></th>\n",
       "      <th>Name</th>\n",
       "      <th>Accuracy</th>\n",
       "      <th>F1 score</th>\n",
       "      <th>Precision</th>\n",
       "      <th>Recall</th>\n",
       "    </tr>\n",
       "  </thead>\n",
       "  <tbody>\n",
       "    <tr>\n",
       "      <th>0</th>\n",
       "      <td>LogisticRegression</td>\n",
       "      <td>0.888889</td>\n",
       "      <td>0.769231</td>\n",
       "      <td>0.862069</td>\n",
       "      <td>0.694444</td>\n",
       "    </tr>\n",
       "  </tbody>\n",
       "</table>\n",
       "</div>"
      ],
      "text/plain": [
       "                 Name  Accuracy  F1 score  Precision    Recall\n",
       "0  LogisticRegression  0.888889  0.769231   0.862069  0.694444"
      ]
     },
     "execution_count": 361,
     "metadata": {},
     "output_type": "execute_result"
    }
   ],
   "source": [
    "y_pred = clf.predict(X_val)\n",
    "\n",
    "results = {'Name': [], 'Accuracy': [], 'F1 score': [], 'Precision': [], 'Recall': []}\n",
    "ys_pred = {}\n",
    "\n",
    "for clf, name in zip(clfs, clfs_names):\n",
    "    y_pred = clf.predict(X_val)\n",
    "    ys_pred[name] = y_pred\n",
    "    results['Name'].append(name)\n",
    "    results['Accuracy'].append(accuracy_score(y_val, y_pred))\n",
    "    results['F1 score'].append(f1_score(y_val, y_pred))\n",
    "    results['Precision'].append(precision_score(y_val, y_pred))\n",
    "    results['Recall'].append(recall_score(y_val, y_pred))\n",
    "\n",
    "results_df = pd.DataFrame(results)\n",
    "print(\"Performance on VALIDATION set\")\n",
    "results_df.head(len(clfs_names))"
   ]
  },
  {
   "cell_type": "code",
   "execution_count": 362,
   "metadata": {},
   "outputs": [
    {
     "data": {
      "image/png": "[encoded data removed]",
      "text/plain": [
       "<Figure size 640x480 with 2 Axes>"
      ]
     },
     "metadata": {},
     "output_type": "display_data"
    }
   ],
   "source": [
    "for clf, name in zip(clfs, clfs_names):\n",
    "    y_pred = ys_pred[name]\n",
    "    cm = confusion_matrix(y_val, y_pred)\n",
    "    disp = ConfusionMatrixDisplay(confusion_matrix=cm, display_labels=clf.classes_)\n",
    "    disp.plot()\n",
    "    plt.title(f\"{name}\")\n",
    "    plt.show()"
   ]
  },
  {
   "cell_type": "code",
   "execution_count": 363,
   "metadata": {},
   "outputs": [
    {
     "data": {
      "image/png": "[encoded data removed]",
      "text/plain": [
       "<Figure size 640x480 with 1 Axes>"
      ]
     },
     "metadata": {},
     "output_type": "display_data"
    }
   ],
   "source": [
    "from sklearn.metrics import roc_curve, auc, RocCurveDisplay\n",
    "ys_pred_proba = {}\n",
    "clfs_thresholds = {}\n",
    "for clf, name in zip(clfs, clfs_names):\n",
    "    y_pred_proba = clf.predict_proba(X_val)\n",
    "    y_pred_proba = y_pred_proba[:, 1]\n",
    "    ys_pred_proba[name] = y_pred_proba\n",
    "\n",
    "    fpr, tpr, thresholds = roc_curve(y_val, y_pred_proba)\n",
    "    roc_auc = auc(fpr, tpr)\n",
    "    clfs_thresholds[name] = thresholds\n",
    "    plt.plot(fpr,tpr,label=f\"{name} AUC={roc_auc:.2f}\"+str())\n",
    "\n",
    "plt.plot([0, 1], [0, 1], \"k--\", label=\"chance level (AUC = 0.5)\")\n",
    "plt.xlabel('1-Specificity(False Positive Rate)')\n",
    "plt.ylabel('Sensitivity(True Positive Rate)')\n",
    "plt.title('Receiver Operating Characteristic')\n",
    "plt.legend()\n",
    "plt.show()"
   ]
  },
  {
   "cell_type": "code",
   "execution_count": 364,
   "metadata": {},
   "outputs": [],
   "source": [
    "best_thresholds = {}\n",
    "for clf, name in zip(clfs, clfs_names):\n",
    "    best_f1 = 0\n",
    "    best_th = None\n",
    "    for threshold in clfs_thresholds[name]:\n",
    "        y_pred = ys_pred_proba[name] > threshold\n",
    "        f1 = f1_score(y_val, y_pred)\n",
    "        if f1 > best_f1:\n",
    "            best_f1 = f1\n",
    "            best_th = threshold\n",
    "    best_thresholds[name] = best_th"
   ]
  },
  {
   "cell_type": "code",
   "execution_count": 365,
   "metadata": {},
   "outputs": [
    {
     "name": "stdout",
     "output_type": "stream",
     "text": [
      "Results after threshold adjustment on VALIDATION\n"
     ]
    },
    {
     "data": {
      "text/html": [
       "<div>\n",
       "<style scoped>\n",
       "    .dataframe tbody tr th:only-of-type {\n",
       "        vertical-align: middle;\n",
       "    }\n",
       "\n",
       "    .dataframe tbody tr th {\n",
       "        vertical-align: top;\n",
       "    }\n",
       "\n",
       "    .dataframe thead th {\n",
       "        text-align: right;\n",
       "    }\n",
       "</style>\n",
       "<table border=\"1\" class=\"dataframe\">\n",
       "  <thead>\n",
       "    <tr style=\"text-align: right;\">\n",
       "      <th></th>\n",
       "      <th>Name</th>\n",
       "      <th>Accuracy</th>\n",
       "      <th>F1 score</th>\n",
       "      <th>Precision</th>\n",
       "      <th>Recall</th>\n",
       "      <th>Best Th.</th>\n",
       "    </tr>\n",
       "  </thead>\n",
       "  <tbody>\n",
       "    <tr>\n",
       "      <th>0</th>\n",
       "      <td>LogisticRegression</td>\n",
       "      <td>0.888889</td>\n",
       "      <td>0.769231</td>\n",
       "      <td>0.862069</td>\n",
       "      <td>0.694444</td>\n",
       "      <td>0.498801</td>\n",
       "    </tr>\n",
       "  </tbody>\n",
       "</table>\n",
       "</div>"
      ],
      "text/plain": [
       "                 Name  Accuracy  F1 score  Precision    Recall  Best Th.\n",
       "0  LogisticRegression  0.888889  0.769231   0.862069  0.694444  0.498801"
      ]
     },
     "execution_count": 365,
     "metadata": {},
     "output_type": "execute_result"
    }
   ],
   "source": [
    "results = {'Name': [], 'Accuracy': [], 'F1 score': [], 'Precision': [], 'Recall': [], 'Best Th.': []}\n",
    "\n",
    "for clf, name in zip(clfs, clfs_names):\n",
    "    best_th = best_thresholds[name]\n",
    "    y_pred = ys_pred_proba[name] > best_th\n",
    "    results['Name'].append(name)\n",
    "    results['Accuracy'].append(accuracy_score(y_val, y_pred))\n",
    "    results['F1 score'].append(f1_score(y_val, y_pred))\n",
    "    results['Precision'].append(precision_score(y_val, y_pred))\n",
    "    results['Recall'].append(recall_score(y_val, y_pred))\n",
    "    results['Best Th.'].append(best_th)\n",
    "\n",
    "results_df = pd.DataFrame(results)\n",
    "print(\"Results after threshold adjustment on VALIDATION\")\n",
    "results_df.head(len(clfs_names))"
   ]
  },
  {
   "cell_type": "code",
   "execution_count": 366,
   "metadata": {},
   "outputs": [
    {
     "name": "stdout",
     "output_type": "stream",
     "text": [
      "Results WITHOUT threshold adjustment on TEST data\n"
     ]
    },
    {
     "data": {
      "text/html": [
       "<div>\n",
       "<style scoped>\n",
       "    .dataframe tbody tr th:only-of-type {\n",
       "        vertical-align: middle;\n",
       "    }\n",
       "\n",
       "    .dataframe tbody tr th {\n",
       "        vertical-align: top;\n",
       "    }\n",
       "\n",
       "    .dataframe thead th {\n",
       "        text-align: right;\n",
       "    }\n",
       "</style>\n",
       "<table border=\"1\" class=\"dataframe\">\n",
       "  <thead>\n",
       "    <tr style=\"text-align: right;\">\n",
       "      <th></th>\n",
       "      <th>Name</th>\n",
       "      <th>Accuracy</th>\n",
       "      <th>F1 score</th>\n",
       "      <th>Precision</th>\n",
       "      <th>Recall</th>\n",
       "    </tr>\n",
       "  </thead>\n",
       "  <tbody>\n",
       "    <tr>\n",
       "      <th>0</th>\n",
       "      <td>LogisticRegression</td>\n",
       "      <td>0.844444</td>\n",
       "      <td>0.655738</td>\n",
       "      <td>0.833333</td>\n",
       "      <td>0.540541</td>\n",
       "    </tr>\n",
       "  </tbody>\n",
       "</table>\n",
       "</div>"
      ],
      "text/plain": [
       "                 Name  Accuracy  F1 score  Precision    Recall\n",
       "0  LogisticRegression  0.844444  0.655738   0.833333  0.540541"
      ]
     },
     "execution_count": 366,
     "metadata": {},
     "output_type": "execute_result"
    }
   ],
   "source": [
    "from sklearn.metrics import accuracy_score, f1_score, precision_score, recall_score, confusion_matrix, ConfusionMatrixDisplay\n",
    "y_pred = clf.predict(X_test)\n",
    "\n",
    "results = {'Name': [], 'Accuracy': [], 'F1 score': [], 'Precision': [], 'Recall': []}\n",
    "ys_pred = {}\n",
    "\n",
    "for clf, name in zip(clfs, clfs_names):\n",
    "    y_pred = clf.predict(X_test)\n",
    "    ys_pred[name] = y_pred\n",
    "    results['Name'].append(name)\n",
    "    results['Accuracy'].append(accuracy_score(y_test, y_pred))\n",
    "    results['F1 score'].append(f1_score(y_test, y_pred))\n",
    "    results['Precision'].append(precision_score(y_test, y_pred))\n",
    "    results['Recall'].append(recall_score(y_test, y_pred))\n",
    "\n",
    "results_df = pd.DataFrame(results)\n",
    "print(\"Results WITHOUT threshold adjustment on TEST data\")\n",
    "results_df.head(len(clfs_names))"
   ]
  },
  {
   "cell_type": "code",
   "execution_count": 367,
   "metadata": {},
   "outputs": [
    {
     "name": "stdout",
     "output_type": "stream",
     "text": [
      "Results after threshold adjustment on TEST data\n"
     ]
    },
    {
     "data": {
      "text/html": [
       "<div>\n",
       "<style scoped>\n",
       "    .dataframe tbody tr th:only-of-type {\n",
       "        vertical-align: middle;\n",
       "    }\n",
       "\n",
       "    .dataframe tbody tr th {\n",
       "        vertical-align: top;\n",
       "    }\n",
       "\n",
       "    .dataframe thead th {\n",
       "        text-align: right;\n",
       "    }\n",
       "</style>\n",
       "<table border=\"1\" class=\"dataframe\">\n",
       "  <thead>\n",
       "    <tr style=\"text-align: right;\">\n",
       "      <th></th>\n",
       "      <th>Name</th>\n",
       "      <th>Accuracy</th>\n",
       "      <th>F1 score</th>\n",
       "      <th>Precision</th>\n",
       "      <th>Recall</th>\n",
       "      <th>Best Th.</th>\n",
       "    </tr>\n",
       "  </thead>\n",
       "  <tbody>\n",
       "    <tr>\n",
       "      <th>0</th>\n",
       "      <td>LogisticRegression</td>\n",
       "      <td>0.844444</td>\n",
       "      <td>0.655738</td>\n",
       "      <td>0.833333</td>\n",
       "      <td>0.540541</td>\n",
       "      <td>0.498801</td>\n",
       "    </tr>\n",
       "  </tbody>\n",
       "</table>\n",
       "</div>"
      ],
      "text/plain": [
       "                 Name  Accuracy  F1 score  Precision    Recall  Best Th.\n",
       "0  LogisticRegression  0.844444  0.655738   0.833333  0.540541  0.498801"
      ]
     },
     "execution_count": 367,
     "metadata": {},
     "output_type": "execute_result"
    }
   ],
   "source": [
    "results = {'Name': [], 'Accuracy': [], 'F1 score': [], 'Precision': [], 'Recall': [], 'Best Th.': []}\n",
    "ys_pred_test_proba = {}\n",
    "\n",
    "for clf, name in zip(clfs, clfs_names):\n",
    "    best_th = best_thresholds[name]\n",
    "    y_pred_proba = clf.predict_proba(X_test)[:, 1]\n",
    "    ys_pred_test_proba[name] = y_pred_proba\n",
    "    y_pred = y_pred_proba > best_th\n",
    "    results['Name'].append(name)\n",
    "    results['Accuracy'].append(accuracy_score(y_test, y_pred))\n",
    "    results['F1 score'].append(f1_score(y_test, y_pred))\n",
    "    results['Precision'].append(precision_score(y_test, y_pred))\n",
    "    results['Recall'].append(recall_score(y_test, y_pred))\n",
    "    results['Best Th.'].append(best_th)\n",
    "\n",
    "results_df = pd.DataFrame(results)\n",
    "print(\"Results after threshold adjustment on TEST data\")\n",
    "results_df.head(len(clfs_names))"
   ]
  },
  {
   "cell_type": "code",
   "execution_count": 368,
   "metadata": {},
   "outputs": [
    {
     "data": {
      "image/png": "[encoded data removed]",
      "text/plain": [
       "<Figure size 640x480 with 2 Axes>"
      ]
     },
     "metadata": {},
     "output_type": "display_data"
    }
   ],
   "source": [
    "for clf, name in zip(clfs, clfs_names):\n",
    "    best_th = best_thresholds[name]\n",
    "    y_pred_proba = clf.predict_proba(X_test)[:, 1]\n",
    "    ys_pred_test_proba[name] = y_pred_proba\n",
    "    y_pred = y_pred_proba > best_th\n",
    "    cm = confusion_matrix(y_test, y_pred)\n",
    "    disp = ConfusionMatrixDisplay(confusion_matrix=cm, display_labels=clf.classes_)\n",
    "    disp.plot()\n",
    "    plt.title(f\"{name}\")\n",
    "    plt.show()"
   ]
  },
  {
   "cell_type": "code",
   "execution_count": 369,
   "metadata": {},
   "outputs": [
    {
     "name": "stdout",
     "output_type": "stream",
     "text": [
      "[ 0.14530131 -0.12376092]\n"
     ]
    }
   ],
   "source": [
    "print(clf.coef_[0][:2])"
   ]
  },
  {
   "cell_type": "code",
   "execution_count": 370,
   "metadata": {},
   "outputs": [
    {
     "data": {
      "image/png": "[encoded data removed]",
      "text/plain": [
       "<Figure size 640x480 with 1 Axes>"
      ]
     },
     "metadata": {},
     "output_type": "display_data"
    }
   ],
   "source": [
    "X = X_test[:,:2]\n",
    "Y = y_test\n",
    "# Retrieve the model parameters.\n",
    "b = clf.intercept_[0]\n",
    "w1, w2 = clf.coef_[0][:2].T\n",
    "# Calculate the intercept and gradient of the decision boundary.\n",
    "c = -b/w2\n",
    "m = -w1/w2\n",
    "\n",
    "# Plot the data and the classification with the decision boundary.\n",
    "xmin, xmax = np.min(X_test[:,:2]), np.max(X_test[:,:2])\n",
    "# spread = xmax - xmin\n",
    "# xmin, xmax = xmin - 0.5*spread, xmax + 0.5*spread\n",
    "ymin, ymax = xmin, xmax\n",
    "xd = np.array([xmin, xmax])\n",
    "yd = m*xd + c\n",
    "plt.plot(xd, yd, 'k', lw=1, ls='--')\n",
    "plt.fill_between(xd, yd, ymin, color='tab:blue', alpha=0.2)\n",
    "plt.fill_between(xd, yd, ymax, color='tab:orange', alpha=0.2)\n",
    "\n",
    "plt.scatter(*X[Y==0].T)\n",
    "plt.scatter(*X[Y==1].T)\n",
    "plt.xlim(xmin, xmax)\n",
    "plt.ylim(ymin, ymax)\n",
    "plt.ylabel(r'$x_2$')\n",
    "plt.xlabel(r'$x_1$')\n",
    "\n",
    "plt.show()"
   ]
  }
 ],
 "metadata": {
  "kernelspec": {
   "display_name": "Python 3",
   "language": "python",
   "name": "python3"
  },
  "language_info": {
   "codemirror_mode": {
    "name": "ipython",
    "version": 3
   },
   "file_extension": ".py",
   "mimetype": "text/x-python",
   "name": "python",
   "nbconvert_exporter": "python",
   "pygments_lexer": "ipython3",
   "version": "3.7.9 (tags/v3.7.9:13c94747c7, Aug 17 2020, 18:58:18) [MSC v.1900 64 bit (AMD64)]"
  },
  "orig_nbformat": 4,
  "vscode": {
   "interpreter": {
    "hash": "92dd4b502f81218ddaca626c6abbd5a4a30a8e2a6a56fe90ff1f29ede10b8e42"
   }
  }
 },
 "nbformat": 4,
 "nbformat_minor": 2
}
