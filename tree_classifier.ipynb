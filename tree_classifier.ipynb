{
 "cells": [
  {
   "cell_type": "code",
   "execution_count": 62,
   "metadata": {},
   "outputs": [],
   "source": [
    "import pandas as pd\n",
    "import numpy as np\n",
    "\n",
    "from sklearn.model_selection import cross_val_score\n",
    "from sklearn.model_selection import train_test_split\n",
    "from sklearn.tree import DecisionTreeClassifier\n",
    "\n",
    "random_state = 44"
   ]
  },
  {
   "cell_type": "code",
   "execution_count": 63,
   "metadata": {},
   "outputs": [],
   "source": [
    "df = pd.read_csv(\"features.csv\", index_col=0)\n",
    "df.dropna(inplace=True)\n",
    "X = df.drop(columns=['malign', 'patient_name'])\n",
    "y = df['malign']\n"
   ]
  },
  {
   "cell_type": "code",
   "execution_count": 64,
   "metadata": {},
   "outputs": [
    {
     "data": {
      "text/plain": [
       "array([[0.66872238, 0.32067174, 0.33801178, ..., 0.08264185, 0.12373082,\n",
       "        0.02806424],\n",
       "       [0.81503525, 0.43431311, 0.47255324, ..., 0.33483705, 0.06946129,\n",
       "        0.06102234],\n",
       "       [0.89418626, 0.43642804, 0.52003056, ..., 0.2329424 , 0.13042764,\n",
       "        0.02483365],\n",
       "       ...,\n",
       "       [0.63515194, 0.17930703, 0.19413937, ..., 0.        , 0.        ,\n",
       "        0.        ],\n",
       "       [0.23890031, 0.14268305, 0.14697542, ..., 0.        , 0.        ,\n",
       "        0.        ],\n",
       "       [0.21205056, 0.08051066, 0.07892094, ..., 0.        , 0.        ,\n",
       "        0.        ]])"
      ]
     },
     "execution_count": 64,
     "metadata": {},
     "output_type": "execute_result"
    }
   ],
   "source": [
    "from sklearn.preprocessing import MinMaxScaler\n",
    "scaler = MinMaxScaler()\n",
    "scaler.fit(X)\n",
    "scaler.transform(X)"
   ]
  },
  {
   "cell_type": "code",
   "execution_count": 65,
   "metadata": {},
   "outputs": [],
   "source": [
    "X_train, X_test, y_train, y_test = train_test_split(X, y, test_size=0.2, random_state=random_state)\n",
    "X_val, X_test, y_val, y_test = train_test_split(X_test, y_test, test_size=0.5, random_state=random_state)"
   ]
  },
  {
   "cell_type": "code",
   "execution_count": 66,
   "metadata": {},
   "outputs": [],
   "source": [
    "clf = DecisionTreeClassifier(random_state=random_state)\n",
    "clf = clf.fit(X_train, y_train)\n",
    "y_pred = clf.predict(X_val)"
   ]
  },
  {
   "cell_type": "code",
   "execution_count": 67,
   "metadata": {},
   "outputs": [
    {
     "name": "stdout",
     "output_type": "stream",
     "text": [
      "Accuracy: 0.7851851851851852\n",
      "F1 score: 0.6233766233766234\n",
      "Precision: 0.5853658536585366\n",
      "Recall: 0.6666666666666666\n"
     ]
    }
   ],
   "source": [
    "from sklearn.metrics import accuracy_score, f1_score, precision_score, recall_score\n",
    "\n",
    "print(\"Accuracy:\", accuracy_score(y_val, y_pred))\n",
    "print(\"F1 score:\", f1_score(y_val, y_pred))\n",
    "print(\"Precision:\", precision_score(y_val, y_pred))\n",
    "print(\"Recall:\", recall_score(y_val, y_pred))"
   ]
  }
 ],
 "metadata": {
  "kernelspec": {
   "display_name": "Python 3",
   "language": "python",
   "name": "python3"
  },
  "language_info": {
   "codemirror_mode": {
    "name": "ipython",
    "version": 3
   },
   "file_extension": ".py",
   "mimetype": "text/x-python",
   "name": "python",
   "nbconvert_exporter": "python",
   "pygments_lexer": "ipython3",
   "version": "3.7.9"
  },
  "orig_nbformat": 4,
  "vscode": {
   "interpreter": {
    "hash": "92dd4b502f81218ddaca626c6abbd5a4a30a8e2a6a56fe90ff1f29ede10b8e42"
   }
  }
 },
 "nbformat": 4,
 "nbformat_minor": 2
}
