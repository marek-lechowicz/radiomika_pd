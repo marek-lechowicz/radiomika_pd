{
 "cells": [
  {
   "cell_type": "code",
   "execution_count": 122,
   "metadata": {},
   "outputs": [],
   "source": [
    "import pandas as pd\n",
    "import numpy as np\n",
    "import matplotlib.pyplot as plt\n",
    "\n",
    "from sklearn.model_selection import train_test_split\n",
    "\n",
    "random_state = 44"
   ]
  },
  {
   "cell_type": "code",
   "execution_count": 123,
   "metadata": {},
   "outputs": [],
   "source": [
    "df = pd.read_csv(\"features.csv\", index_col=0)\n",
    "df.dropna(inplace=True)\n",
    "X = df.drop(columns=['malign', 'patient_name'])\n",
    "y = df['malign']"
   ]
  },
  {
   "cell_type": "code",
   "execution_count": 124,
   "metadata": {},
   "outputs": [
    {
     "data": {
      "text/plain": [
       "array([[0.66872238, 0.32067174, 0.33801178, ..., 0.        , 0.        ,\n",
       "        0.        ],\n",
       "       [0.81503525, 0.43431311, 0.47255324, ..., 0.        , 0.        ,\n",
       "        0.        ],\n",
       "       [0.89418626, 0.43642804, 0.52003056, ..., 0.        , 0.        ,\n",
       "        0.        ],\n",
       "       ...,\n",
       "       [0.63515194, 0.17930703, 0.19413937, ..., 0.        , 0.        ,\n",
       "        0.        ],\n",
       "       [0.23890031, 0.14268305, 0.14697542, ..., 0.        , 0.        ,\n",
       "        0.        ],\n",
       "       [0.21205056, 0.08051066, 0.07892094, ..., 0.        , 0.        ,\n",
       "        0.        ]])"
      ]
     },
     "execution_count": 124,
     "metadata": {},
     "output_type": "execute_result"
    }
   ],
   "source": [
    "from sklearn.preprocessing import MinMaxScaler\n",
    "scaler = MinMaxScaler()\n",
    "scaler.fit(X)\n",
    "scaler.transform(X)"
   ]
  },
  {
   "cell_type": "code",
   "execution_count": 125,
   "metadata": {},
   "outputs": [
    {
     "data": {
      "text/plain": [
       "PCA(random_state=44)"
      ]
     },
     "execution_count": 125,
     "metadata": {},
     "output_type": "execute_result"
    }
   ],
   "source": [
    "from sklearn.decomposition import PCA\n",
    "\n",
    "pca = PCA(random_state=random_state, n_components=None)\n",
    "pca.fit(X)"
   ]
  },
  {
   "cell_type": "code",
   "execution_count": 126,
   "metadata": {},
   "outputs": [
    {
     "name": "stdout",
     "output_type": "stream",
     "text": [
      "146\n"
     ]
    },
    {
     "data": {
      "text/html": [
       "<div>\n",
       "<style scoped>\n",
       "    .dataframe tbody tr th:only-of-type {\n",
       "        vertical-align: middle;\n",
       "    }\n",
       "\n",
       "    .dataframe tbody tr th {\n",
       "        vertical-align: top;\n",
       "    }\n",
       "\n",
       "    .dataframe thead th {\n",
       "        text-align: right;\n",
       "    }\n",
       "</style>\n",
       "<table border=\"1\" class=\"dataframe\">\n",
       "  <thead>\n",
       "    <tr style=\"text-align: right;\">\n",
       "      <th></th>\n",
       "      <th>Variance explained</th>\n",
       "    </tr>\n",
       "  </thead>\n",
       "  <tbody>\n",
       "    <tr>\n",
       "      <th>0</th>\n",
       "      <td>0.943401</td>\n",
       "    </tr>\n",
       "    <tr>\n",
       "      <th>1</th>\n",
       "      <td>0.999272</td>\n",
       "    </tr>\n",
       "    <tr>\n",
       "      <th>2</th>\n",
       "      <td>0.999941</td>\n",
       "    </tr>\n",
       "    <tr>\n",
       "      <th>3</th>\n",
       "      <td>0.999993</td>\n",
       "    </tr>\n",
       "    <tr>\n",
       "      <th>4</th>\n",
       "      <td>0.999996</td>\n",
       "    </tr>\n",
       "    <tr>\n",
       "      <th>...</th>\n",
       "      <td>...</td>\n",
       "    </tr>\n",
       "    <tr>\n",
       "      <th>141</th>\n",
       "      <td>1.000000</td>\n",
       "    </tr>\n",
       "    <tr>\n",
       "      <th>142</th>\n",
       "      <td>1.000000</td>\n",
       "    </tr>\n",
       "    <tr>\n",
       "      <th>143</th>\n",
       "      <td>1.000000</td>\n",
       "    </tr>\n",
       "    <tr>\n",
       "      <th>144</th>\n",
       "      <td>1.000000</td>\n",
       "    </tr>\n",
       "    <tr>\n",
       "      <th>145</th>\n",
       "      <td>1.000000</td>\n",
       "    </tr>\n",
       "  </tbody>\n",
       "</table>\n",
       "<p>146 rows × 1 columns</p>\n",
       "</div>"
      ],
      "text/plain": [
       "     Variance explained\n",
       "0              0.943401\n",
       "1              0.999272\n",
       "2              0.999941\n",
       "3              0.999993\n",
       "4              0.999996\n",
       "..                  ...\n",
       "141            1.000000\n",
       "142            1.000000\n",
       "143            1.000000\n",
       "144            1.000000\n",
       "145            1.000000\n",
       "\n",
       "[146 rows x 1 columns]"
      ]
     },
     "execution_count": 126,
     "metadata": {},
     "output_type": "execute_result"
    }
   ],
   "source": [
    "results = {'Variance explained': []}\n",
    "for i in range(1, 800):\n",
    "    cumsum = np.sum(pca.explained_variance_ratio_[:i])\n",
    "    results['Variance explained'].append(np.sum(pca.explained_variance_ratio_[:i]))\n",
    "    if cumsum == 1:\n",
    "        break\n",
    "\n",
    "results_df = pd.DataFrame(results)\n",
    "print(len(results['Variance explained']))\n",
    "results_df.head(800)"
   ]
  },
  {
   "cell_type": "code",
   "execution_count": 127,
   "metadata": {},
   "outputs": [],
   "source": [
    "pca = PCA(random_state=random_state, n_components=len(results['Variance explained']))\n",
    "pca.fit(X)\n",
    "X_PCA = pca.transform(X)\n",
    "X = X_PCA"
   ]
  },
  {
   "cell_type": "code",
   "execution_count": 128,
   "metadata": {},
   "outputs": [],
   "source": [
    "X_train, X_test, y_train, y_test = train_test_split(X, y, test_size=0.2, random_state=random_state)\n",
    "X_val, X_test, y_val, y_test = train_test_split(X_test, y_test, test_size=0.5, random_state=random_state)"
   ]
  },
  {
   "cell_type": "code",
   "execution_count": 129,
   "metadata": {},
   "outputs": [
    {
     "data": {
      "text/plain": [
       "LogisticRegression(max_iter=10000, random_state=44, solver='liblinear',\n",
       "                   tol=1e-10)"
      ]
     },
     "execution_count": 129,
     "metadata": {},
     "output_type": "execute_result"
    }
   ],
   "source": [
    "from sklearn.linear_model import LogisticRegression\n",
    "\n",
    "clf = LogisticRegression(random_state=random_state, max_iter=10**4, solver='liblinear', tol=1e-10)\n",
    "\n",
    "clfs = [clf]\n",
    "clfs_names = [\"LogisticRegression\"]\n",
    "\n",
    "clf.fit(X_train, y_train)"
   ]
  },
  {
   "cell_type": "code",
   "execution_count": 130,
   "metadata": {},
   "outputs": [
    {
     "name": "stdout",
     "output_type": "stream",
     "text": [
      "[[ 6.59624976e-10 -3.23179046e-09 -8.08416950e-09 -9.45911721e-08\n",
      "   4.82345599e-07 -3.38100325e-07  4.99871351e-07 -5.57809266e-07\n",
      "   4.17669512e-06  1.00996189e-06  4.63014070e-06 -5.94860595e-07\n",
      "  -6.75653973e-06 -7.56342226e-07 -2.34387982e-06  5.67683960e-06\n",
      "  -8.57602572e-06  1.45377580e-04  4.56193633e-05  1.05935942e-04\n",
      "  -8.48054926e-05 -3.72075336e-04 -2.65954402e-04  5.47778343e-04\n",
      "   1.68572545e-04  1.67010636e-04 -5.77589787e-04  9.03598965e-04\n",
      "  -1.06978023e-03  6.90817996e-04  1.26738745e-04 -8.32216784e-04\n",
      "  -3.40860267e-04 -1.40021036e-03 -1.44682085e-03  3.70520139e-04\n",
      "  -1.61203556e-03 -7.51901400e-04  2.33389649e-03 -2.09953847e-03\n",
      "   1.35113905e-03 -1.32052294e-03  2.47382009e-03 -5.05538936e-04\n",
      "   3.11409489e-03 -1.20485913e-03  2.42372588e-03 -3.24276697e-04\n",
      "   1.05242140e-03  1.93587141e-03 -4.65472829e-04  1.03704685e-02\n",
      "   4.36583506e-04  3.33522530e-03  7.50570561e-03  4.86196271e-03\n",
      "   3.40770625e-03 -1.99645724e-03  7.82827913e-03  9.73102232e-03\n",
      "   1.89424041e-03 -7.32304150e-03 -6.54412640e-03  3.43360507e-03\n",
      "   6.17018662e-03  4.48365587e-03 -6.01121789e-03  9.17365237e-03\n",
      "   5.28518127e-03  1.67823192e-02 -5.32404685e-03 -5.65067773e-03\n",
      "   2.02322511e-03 -3.38187890e-03  8.37467135e-03  2.11927209e-03\n",
      "  -4.47416802e-03  1.00806653e-02 -1.06168574e-02  6.12571655e-03\n",
      "   3.90569813e-03  4.47169048e-03 -4.31083819e-03 -6.12021520e-03\n",
      "   8.08497190e-03 -4.63113858e-03  7.27060542e-03  1.62830440e-03\n",
      "   1.14438714e-02 -1.47313840e-04  4.66495103e-03 -1.14184967e-02\n",
      "  -5.12573860e-04 -8.08969958e-03  1.12605889e-02  7.09681866e-03\n",
      "  -3.69498212e-02 -3.18847715e-03  1.27832599e-02 -8.17986309e-03\n",
      "   5.81885139e-03 -9.12795830e-03  2.31336911e-02  5.50505184e-03\n",
      "  -1.50875756e-03  2.75971442e-02  1.48218001e-02 -5.14377419e-03\n",
      "  -1.25667936e-02 -5.78606799e-03 -2.27343271e-03 -1.51393288e-02\n",
      "  -1.33266107e-02  3.10944285e-02 -1.27736539e-02 -1.22368072e-02\n",
      "  -1.12586326e-02  1.72915637e-02  5.72160852e-04 -2.11698649e-02\n",
      "  -1.68870740e-02  2.00605326e-02  1.43794781e-02  2.04472237e-02\n",
      "   9.32328288e-03  2.84287579e-03 -8.62067328e-04  4.30131857e-03\n",
      "  -1.25773680e-02  1.10274735e-03 -7.38849565e-03  3.20695030e-03\n",
      "   4.10077161e-03  7.08334201e-04  3.37169395e-03  2.46099468e-03\n",
      "   4.64551093e-03  1.34499220e-02 -9.55905505e-03 -1.99806129e-02\n",
      "  -1.11001640e-02  6.85516007e-03 -1.30381529e-02 -7.79637135e-03\n",
      "   2.75456139e-03  9.54888200e-03]]\n"
     ]
    }
   ],
   "source": [
    "print(clf.coef_)"
   ]
  },
  {
   "cell_type": "code",
   "execution_count": 131,
   "metadata": {},
   "outputs": [
    {
     "name": "stdout",
     "output_type": "stream",
     "text": [
      "Performance on TRAINING set\n"
     ]
    },
    {
     "data": {
      "text/html": [
       "<div>\n",
       "<style scoped>\n",
       "    .dataframe tbody tr th:only-of-type {\n",
       "        vertical-align: middle;\n",
       "    }\n",
       "\n",
       "    .dataframe tbody tr th {\n",
       "        vertical-align: top;\n",
       "    }\n",
       "\n",
       "    .dataframe thead th {\n",
       "        text-align: right;\n",
       "    }\n",
       "</style>\n",
       "<table border=\"1\" class=\"dataframe\">\n",
       "  <thead>\n",
       "    <tr style=\"text-align: right;\">\n",
       "      <th></th>\n",
       "      <th>Name</th>\n",
       "      <th>Accuracy</th>\n",
       "      <th>F1 score</th>\n",
       "      <th>Precision</th>\n",
       "      <th>Recall</th>\n",
       "    </tr>\n",
       "  </thead>\n",
       "  <tbody>\n",
       "    <tr>\n",
       "      <th>0</th>\n",
       "      <td>LogisticRegression</td>\n",
       "      <td>0.777365</td>\n",
       "      <td>0.67655</td>\n",
       "      <td>0.570455</td>\n",
       "      <td>0.831126</td>\n",
       "    </tr>\n",
       "  </tbody>\n",
       "</table>\n",
       "</div>"
      ],
      "text/plain": [
       "                 Name  Accuracy  F1 score  Precision    Recall\n",
       "0  LogisticRegression  0.777365   0.67655   0.570455  0.831126"
      ]
     },
     "execution_count": 131,
     "metadata": {},
     "output_type": "execute_result"
    }
   ],
   "source": [
    "from sklearn.metrics import accuracy_score, f1_score, precision_score, recall_score, confusion_matrix, ConfusionMatrixDisplay\n",
    "y_pred = clf.predict(X_train)\n",
    "\n",
    "results = {'Name': [], 'Accuracy': [], 'F1 score': [], 'Precision': [], 'Recall': []}\n",
    "ys_pred = {}\n",
    "\n",
    "for clf, name in zip(clfs, clfs_names):\n",
    "    y_pred = clf.predict(X_train)\n",
    "    ys_pred[name] = y_pred\n",
    "    results['Name'].append(name)\n",
    "    results['Accuracy'].append(accuracy_score(y_train, y_pred))\n",
    "    results['F1 score'].append(f1_score(y_train, y_pred))\n",
    "    results['Precision'].append(precision_score(y_train, y_pred))\n",
    "    results['Recall'].append(recall_score(y_train, y_pred))\n",
    "\n",
    "results_df = pd.DataFrame(results)\n",
    "print(\"Performance on TRAINING set\")\n",
    "results_df.head(len(clfs_names))"
   ]
  },
  {
   "cell_type": "code",
   "execution_count": 132,
   "metadata": {},
   "outputs": [
    {
     "name": "stdout",
     "output_type": "stream",
     "text": [
      "Performance on VALIDATION set\n"
     ]
    },
    {
     "data": {
      "text/html": [
       "<div>\n",
       "<style scoped>\n",
       "    .dataframe tbody tr th:only-of-type {\n",
       "        vertical-align: middle;\n",
       "    }\n",
       "\n",
       "    .dataframe tbody tr th {\n",
       "        vertical-align: top;\n",
       "    }\n",
       "\n",
       "    .dataframe thead th {\n",
       "        text-align: right;\n",
       "    }\n",
       "</style>\n",
       "<table border=\"1\" class=\"dataframe\">\n",
       "  <thead>\n",
       "    <tr style=\"text-align: right;\">\n",
       "      <th></th>\n",
       "      <th>Name</th>\n",
       "      <th>Accuracy</th>\n",
       "      <th>F1 score</th>\n",
       "      <th>Precision</th>\n",
       "      <th>Recall</th>\n",
       "    </tr>\n",
       "  </thead>\n",
       "  <tbody>\n",
       "    <tr>\n",
       "      <th>0</th>\n",
       "      <td>LogisticRegression</td>\n",
       "      <td>0.777778</td>\n",
       "      <td>0.651163</td>\n",
       "      <td>0.56</td>\n",
       "      <td>0.777778</td>\n",
       "    </tr>\n",
       "  </tbody>\n",
       "</table>\n",
       "</div>"
      ],
      "text/plain": [
       "                 Name  Accuracy  F1 score  Precision    Recall\n",
       "0  LogisticRegression  0.777778  0.651163       0.56  0.777778"
      ]
     },
     "execution_count": 132,
     "metadata": {},
     "output_type": "execute_result"
    }
   ],
   "source": [
    "y_pred = clf.predict(X_val)\n",
    "\n",
    "results = {'Name': [], 'Accuracy': [], 'F1 score': [], 'Precision': [], 'Recall': []}\n",
    "ys_pred = {}\n",
    "\n",
    "for clf, name in zip(clfs, clfs_names):\n",
    "    y_pred = clf.predict(X_val)\n",
    "    ys_pred[name] = y_pred\n",
    "    results['Name'].append(name)\n",
    "    results['Accuracy'].append(accuracy_score(y_val, y_pred))\n",
    "    results['F1 score'].append(f1_score(y_val, y_pred))\n",
    "    results['Precision'].append(precision_score(y_val, y_pred))\n",
    "    results['Recall'].append(recall_score(y_val, y_pred))\n",
    "\n",
    "results_df = pd.DataFrame(results)\n",
    "print(\"Performance on VALIDATION set\")\n",
    "results_df.head(len(clfs_names))"
   ]
  },
  {
   "cell_type": "code",
   "execution_count": 133,
   "metadata": {},
   "outputs": [
    {
     "data": {
      "image/png": "[encoded data removed]",
      "text/plain": [
       "<Figure size 640x480 with 2 Axes>"
      ]
     },
     "metadata": {},
     "output_type": "display_data"
    }
   ],
   "source": [
    "for clf, name in zip(clfs, clfs_names):\n",
    "    y_pred = ys_pred[name]\n",
    "    cm = confusion_matrix(y_val, y_pred)\n",
    "    disp = ConfusionMatrixDisplay(confusion_matrix=cm, display_labels=clf.classes_)\n",
    "    disp.plot()\n",
    "    plt.title(f\"{name}\")\n",
    "    plt.show()"
   ]
  },
  {
   "cell_type": "code",
   "execution_count": 134,
   "metadata": {},
   "outputs": [
    {
     "data": {
      "image/png": "[encoded data removed]",
      "text/plain": [
       "<Figure size 640x480 with 1 Axes>"
      ]
     },
     "metadata": {},
     "output_type": "display_data"
    }
   ],
   "source": [
    "from sklearn.metrics import roc_curve, auc, RocCurveDisplay\n",
    "ys_pred_proba = {}\n",
    "clfs_thresholds = {}\n",
    "for clf, name in zip(clfs, clfs_names):\n",
    "    y_pred_proba = clf.predict_proba(X_val)\n",
    "    y_pred_proba = y_pred_proba[:, 1]\n",
    "    ys_pred_proba[name] = y_pred_proba\n",
    "\n",
    "    fpr, tpr, thresholds = roc_curve(y_val, y_pred_proba)\n",
    "    roc_auc = auc(fpr, tpr)\n",
    "    clfs_thresholds[name] = thresholds\n",
    "    plt.plot(fpr,tpr,label=f\"{name} AUC={roc_auc:.2f}\"+str())\n",
    "\n",
    "plt.plot([0, 1], [0, 1], \"k--\", label=\"chance level (AUC = 0.5)\")\n",
    "plt.xlabel('1-Specificity(False Positive Rate)')\n",
    "plt.ylabel('Sensitivity(True Positive Rate)')\n",
    "plt.title('Receiver Operating Characteristic')\n",
    "plt.legend()\n",
    "plt.show()"
   ]
  },
  {
   "cell_type": "code",
   "execution_count": 135,
   "metadata": {},
   "outputs": [],
   "source": [
    "best_thresholds = {}\n",
    "for clf, name in zip(clfs, clfs_names):\n",
    "    best_f1 = 0\n",
    "    best_th = None\n",
    "    for threshold in clfs_thresholds[name]:\n",
    "        y_pred = ys_pred_proba[name] > threshold\n",
    "        f1 = f1_score(y_val, y_pred)\n",
    "        if f1 > best_f1:\n",
    "            best_f1 = f1\n",
    "            best_th = threshold\n",
    "    best_thresholds[name] = best_th"
   ]
  },
  {
   "cell_type": "code",
   "execution_count": 136,
   "metadata": {},
   "outputs": [
    {
     "name": "stdout",
     "output_type": "stream",
     "text": [
      "Results after threshold adjustment on VALIDATION\n"
     ]
    },
    {
     "data": {
      "text/html": [
       "<div>\n",
       "<style scoped>\n",
       "    .dataframe tbody tr th:only-of-type {\n",
       "        vertical-align: middle;\n",
       "    }\n",
       "\n",
       "    .dataframe tbody tr th {\n",
       "        vertical-align: top;\n",
       "    }\n",
       "\n",
       "    .dataframe thead th {\n",
       "        text-align: right;\n",
       "    }\n",
       "</style>\n",
       "<table border=\"1\" class=\"dataframe\">\n",
       "  <thead>\n",
       "    <tr style=\"text-align: right;\">\n",
       "      <th></th>\n",
       "      <th>Name</th>\n",
       "      <th>Accuracy</th>\n",
       "      <th>F1 score</th>\n",
       "      <th>Precision</th>\n",
       "      <th>Recall</th>\n",
       "      <th>Best Th.</th>\n",
       "    </tr>\n",
       "  </thead>\n",
       "  <tbody>\n",
       "    <tr>\n",
       "      <th>0</th>\n",
       "      <td>LogisticRegression</td>\n",
       "      <td>0.807407</td>\n",
       "      <td>0.675</td>\n",
       "      <td>0.613636</td>\n",
       "      <td>0.75</td>\n",
       "      <td>0.549139</td>\n",
       "    </tr>\n",
       "  </tbody>\n",
       "</table>\n",
       "</div>"
      ],
      "text/plain": [
       "                 Name  Accuracy  F1 score  Precision  Recall  Best Th.\n",
       "0  LogisticRegression  0.807407     0.675   0.613636    0.75  0.549139"
      ]
     },
     "execution_count": 136,
     "metadata": {},
     "output_type": "execute_result"
    }
   ],
   "source": [
    "results = {'Name': [], 'Accuracy': [], 'F1 score': [], 'Precision': [], 'Recall': [], 'Best Th.': []}\n",
    "\n",
    "for clf, name in zip(clfs, clfs_names):\n",
    "    best_th = best_thresholds[name]\n",
    "    y_pred = ys_pred_proba[name] > best_th\n",
    "    results['Name'].append(name)\n",
    "    results['Accuracy'].append(accuracy_score(y_val, y_pred))\n",
    "    results['F1 score'].append(f1_score(y_val, y_pred))\n",
    "    results['Precision'].append(precision_score(y_val, y_pred))\n",
    "    results['Recall'].append(recall_score(y_val, y_pred))\n",
    "    results['Best Th.'].append(best_th)\n",
    "\n",
    "results_df = pd.DataFrame(results)\n",
    "print(\"Results after threshold adjustment on VALIDATION\")\n",
    "results_df.head(len(clfs_names))"
   ]
  },
  {
   "cell_type": "code",
   "execution_count": 137,
   "metadata": {},
   "outputs": [
    {
     "name": "stdout",
     "output_type": "stream",
     "text": [
      "Results WITHOUT threshold adjustment on TEST data\n"
     ]
    },
    {
     "data": {
      "text/html": [
       "<div>\n",
       "<style scoped>\n",
       "    .dataframe tbody tr th:only-of-type {\n",
       "        vertical-align: middle;\n",
       "    }\n",
       "\n",
       "    .dataframe tbody tr th {\n",
       "        vertical-align: top;\n",
       "    }\n",
       "\n",
       "    .dataframe thead th {\n",
       "        text-align: right;\n",
       "    }\n",
       "</style>\n",
       "<table border=\"1\" class=\"dataframe\">\n",
       "  <thead>\n",
       "    <tr style=\"text-align: right;\">\n",
       "      <th></th>\n",
       "      <th>Name</th>\n",
       "      <th>Accuracy</th>\n",
       "      <th>F1 score</th>\n",
       "      <th>Precision</th>\n",
       "      <th>Recall</th>\n",
       "    </tr>\n",
       "  </thead>\n",
       "  <tbody>\n",
       "    <tr>\n",
       "      <th>0</th>\n",
       "      <td>LogisticRegression</td>\n",
       "      <td>0.740741</td>\n",
       "      <td>0.623656</td>\n",
       "      <td>0.517857</td>\n",
       "      <td>0.783784</td>\n",
       "    </tr>\n",
       "  </tbody>\n",
       "</table>\n",
       "</div>"
      ],
      "text/plain": [
       "                 Name  Accuracy  F1 score  Precision    Recall\n",
       "0  LogisticRegression  0.740741  0.623656   0.517857  0.783784"
      ]
     },
     "execution_count": 137,
     "metadata": {},
     "output_type": "execute_result"
    }
   ],
   "source": [
    "from sklearn.metrics import accuracy_score, f1_score, precision_score, recall_score, confusion_matrix, ConfusionMatrixDisplay\n",
    "y_pred = clf.predict(X_test)\n",
    "\n",
    "results = {'Name': [], 'Accuracy': [], 'F1 score': [], 'Precision': [], 'Recall': []}\n",
    "ys_pred = {}\n",
    "\n",
    "for clf, name in zip(clfs, clfs_names):\n",
    "    y_pred = clf.predict(X_test)\n",
    "    ys_pred[name] = y_pred\n",
    "    results['Name'].append(name)\n",
    "    results['Accuracy'].append(accuracy_score(y_test, y_pred))\n",
    "    results['F1 score'].append(f1_score(y_test, y_pred))\n",
    "    results['Precision'].append(precision_score(y_test, y_pred))\n",
    "    results['Recall'].append(recall_score(y_test, y_pred))\n",
    "\n",
    "results_df = pd.DataFrame(results)\n",
    "print(\"Results WITHOUT threshold adjustment on TEST data\")\n",
    "results_df.head(len(clfs_names))"
   ]
  },
  {
   "cell_type": "code",
   "execution_count": 138,
   "metadata": {},
   "outputs": [
    {
     "name": "stdout",
     "output_type": "stream",
     "text": [
      "Results after threshold adjustment on TEST data\n"
     ]
    },
    {
     "data": {
      "text/html": [
       "<div>\n",
       "<style scoped>\n",
       "    .dataframe tbody tr th:only-of-type {\n",
       "        vertical-align: middle;\n",
       "    }\n",
       "\n",
       "    .dataframe tbody tr th {\n",
       "        vertical-align: top;\n",
       "    }\n",
       "\n",
       "    .dataframe thead th {\n",
       "        text-align: right;\n",
       "    }\n",
       "</style>\n",
       "<table border=\"1\" class=\"dataframe\">\n",
       "  <thead>\n",
       "    <tr style=\"text-align: right;\">\n",
       "      <th></th>\n",
       "      <th>Name</th>\n",
       "      <th>Accuracy</th>\n",
       "      <th>F1 score</th>\n",
       "      <th>Precision</th>\n",
       "      <th>Recall</th>\n",
       "      <th>Best Th.</th>\n",
       "    </tr>\n",
       "  </thead>\n",
       "  <tbody>\n",
       "    <tr>\n",
       "      <th>0</th>\n",
       "      <td>LogisticRegression</td>\n",
       "      <td>0.762963</td>\n",
       "      <td>0.636364</td>\n",
       "      <td>0.54902</td>\n",
       "      <td>0.756757</td>\n",
       "      <td>0.549139</td>\n",
       "    </tr>\n",
       "  </tbody>\n",
       "</table>\n",
       "</div>"
      ],
      "text/plain": [
       "                 Name  Accuracy  F1 score  Precision    Recall  Best Th.\n",
       "0  LogisticRegression  0.762963  0.636364    0.54902  0.756757  0.549139"
      ]
     },
     "execution_count": 138,
     "metadata": {},
     "output_type": "execute_result"
    }
   ],
   "source": [
    "results = {'Name': [], 'Accuracy': [], 'F1 score': [], 'Precision': [], 'Recall': [], 'Best Th.': []}\n",
    "ys_pred_test_proba = {}\n",
    "\n",
    "for clf, name in zip(clfs, clfs_names):\n",
    "    best_th = best_thresholds[name]\n",
    "    y_pred_proba = clf.predict_proba(X_test)[:, 1]\n",
    "    ys_pred_test_proba[name] = y_pred_proba\n",
    "    y_pred = y_pred_proba > best_th\n",
    "    results['Name'].append(name)\n",
    "    results['Accuracy'].append(accuracy_score(y_test, y_pred))\n",
    "    results['F1 score'].append(f1_score(y_test, y_pred))\n",
    "    results['Precision'].append(precision_score(y_test, y_pred))\n",
    "    results['Recall'].append(recall_score(y_test, y_pred))\n",
    "    results['Best Th.'].append(best_th)\n",
    "\n",
    "results_df = pd.DataFrame(results)\n",
    "print(\"Results after threshold adjustment on TEST data\")\n",
    "results_df.head(len(clfs_names))"
   ]
  },
  {
   "cell_type": "code",
   "execution_count": 139,
   "metadata": {},
   "outputs": [
    {
     "data": {
      "image/png": "[encoded data removed]",
      "text/plain": [
       "<Figure size 640x480 with 2 Axes>"
      ]
     },
     "metadata": {},
     "output_type": "display_data"
    }
   ],
   "source": [
    "for clf, name in zip(clfs, clfs_names):\n",
    "    best_th = best_thresholds[name]\n",
    "    y_pred_proba = clf.predict_proba(X_test)[:, 1]\n",
    "    ys_pred_test_proba[name] = y_pred_proba\n",
    "    y_pred = y_pred_proba > best_th\n",
    "    cm = confusion_matrix(y_test, y_pred)\n",
    "    disp = ConfusionMatrixDisplay(confusion_matrix=cm, display_labels=clf.classes_)\n",
    "    disp.plot()\n",
    "    plt.title(f\"{name}\")\n",
    "    plt.show()"
   ]
  }
 ],
 "metadata": {
  "kernelspec": {
   "display_name": "Python 3",
   "language": "python",
   "name": "python3"
  },
  "language_info": {
   "codemirror_mode": {
    "name": "ipython",
    "version": 3
   },
   "file_extension": ".py",
   "mimetype": "text/x-python",
   "name": "python",
   "nbconvert_exporter": "python",
   "pygments_lexer": "ipython3",
   "version": "3.7.9"
  },
  "orig_nbformat": 4,
  "vscode": {
   "interpreter": {
    "hash": "92dd4b502f81218ddaca626c6abbd5a4a30a8e2a6a56fe90ff1f29ede10b8e42"
   }
  }
 },
 "nbformat": 4,
 "nbformat_minor": 2
}
